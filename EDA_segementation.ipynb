{
  "cells": [
    {
      "cell_type": "markdown",
      "metadata": {},
      "source": [
        "LOADING DATASET"
      ]
    },
    {
      "cell_type": "code",
      "execution_count": null,
      "metadata": {
        "colab": {
          "base_uri": "https://localhost:8080/",
          "height": 211
        },
        "id": "4DrqOP0Cg7jj",
        "outputId": "b32df2dd-0252-4e11-85ea-38043b682393"
      },
      "outputs": [],
      "source": [
        "import os\n",
        "import cv2\n",
        "\n",
        "# Path to the main directory containing all subdirectories with images\n",
        "path_to_main_directory = r\"C:\\Users\\megha\\Downloads\\IDD_Segmentation\"\n",
        "\n",
        "images = []\n",
        "for subdirectory in os.listdir(path_to_main_directory):\n",
        "    # Construct the path to the subdirectory\n",
        "    subdirectory_path = os.path.join(path_to_main_directory, subdirectory)\n",
        "\n",
        "    # Iterate over all files in the subdirectory and add images to the list\n",
        "    for filename in os.listdir(subdirectory_path):\n",
        "        img_path = os.path.join(subdirectory_path, filename)\n",
        "        img = cv2.imread(img_path)\n",
        "        if img is not None:\n",
        "            images.append(img)"
      ]
    },
    {
      "cell_type": "markdown",
      "metadata": {},
      "source": [
        "COUNTING SUBDIRECTORIES"
      ]
    },
    {
      "cell_type": "code",
      "execution_count": null,
      "metadata": {
        "id": "CczIcUZDidEb"
      },
      "outputs": [],
      "source": [
        "import os\n",
        "\n",
        "path_to_folder = r\"C:\\Users\\megha\\Downloads\\IDD_Segmentation\"\n",
        "subdirectories = [f.path for f in os.scandir(path_to_folder) if f.is_dir()]\n",
        "\n",
        "print(len(subdirectories))"
      ]
    },
    {
      "cell_type": "markdown",
      "metadata": {},
      "source": [
        "LISTING DIRECTORIES"
      ]
    },
    {
      "cell_type": "code",
      "execution_count": null,
      "metadata": {
        "id": "l5gj6GdeigTn"
      },
      "outputs": [],
      "source": [
        "import os\n",
        "\n",
        "path_to_images = r\"C:\\Users\\megha\\Downloads\\IDD_Segmentation\"\n",
        "\n",
        "# Get a list of all files and directories in the path\n",
        "contents = os.listdir(path_to_images)\n",
        "\n",
        "# Loop through each item in the list\n",
        "for item in contents:\n",
        "    # Check if the item is a directory\n",
        "    if os.path.isdir(os.path.join(path_to_images, item)):\n",
        "        print(\"Found directory:\", item)"
      ]
    },
    {
      "cell_type": "markdown",
      "metadata": {},
      "source": [
        "COUNTING IMAGES IN DIRECTORIES"
      ]
    },
    {
      "cell_type": "code",
      "execution_count": null,
      "metadata": {
        "id": "OF_J0c1eijLh"
      },
      "outputs": [],
      "source": [
        "import os\n",
        "\n",
        "root_path = r\"C:\\Users\\megha\\Downloads\\IDD_Segmentation\"\n",
        "num_images = 0\n",
        "\n",
        "# Iterate over each subdirectory\n",
        "for dirpath, dirnames, filenames in os.walk(root_path):\n",
        "    # Count the number of image files in the current subdirectory\n",
        "    for filename in filenames:\n",
        "        if filename.lower().endswith(('.png', '.jpg', '.jpeg')):\n",
        "            num_images += 1\n",
        "\n",
        "    # Print the number of image files in the current subdirectory\n",
        "    print(f\"Found {num_images} images in directory: {dirpath}\")\n",
        "    num_images = 0"
      ]
    },
    {
      "cell_type": "markdown",
      "metadata": {},
      "source": [
        "VISUALISING THE DISTRIBUTION OF IMAGES"
      ]
    },
    {
      "cell_type": "code",
      "execution_count": null,
      "metadata": {
        "id": "YsxW7V_sim1t"
      },
      "outputs": [],
      "source": [
        "import matplotlib.pyplot as plt\n",
        "\n",
        "subdirectories = [os.path.join(root_path, d) for d in os.listdir(root_path) if os.path.isdir(os.path.join(root_path, d))]\n",
        "\n",
        "# Count the number of images in each subdirectory\n",
        "counts = [0] * len(subdirectories)\n",
        "for i, directory in enumerate(subdirectories):\n",
        "    counts[i] = len(os.listdir(directory))\n",
        "\n",
        "# Create a bar chart to visualize the distribution\n",
        "plt.bar(subdirectories, counts)\n",
        "plt.xticks(rotation=90)\n",
        "plt.ylabel(\"Number of Images\")\n",
        "plt.show()"
      ]
    },
    {
      "cell_type": "markdown",
      "metadata": {},
      "source": [
        "ANALYSING IMAGE PROPERTIES"
      ]
    },
    {
      "cell_type": "code",
      "execution_count": 6,
      "metadata": {
        "id": "ZTK0Nn0NiqC7"
      },
      "outputs": [],
      "source": [
        "import os\n",
        "import cv2\n",
        "import numpy as np\n",
        "\n",
        "root_path = r\"C:\\Users\\megha\\Downloads\\IDD_Segmentation\"\n",
        "\n",
        "# Initialize empty lists to store the information\n",
        "sizes = []\n",
        "resolutions = []\n",
        "color_distributions = []\n",
        "\n",
        "# Iterate over each image file in each subdirectory\n",
        "for dirpath, dirnames, filenames in os.walk(root_path):\n",
        "    for filename in filenames:\n",
        "        if filename.lower().endswith(('.png', '.jpg', '.jpeg')):\n",
        "            # Load the image file using OpenCV\n",
        "            img_path = os.path.join(dirpath, filename)\n",
        "            img = cv2.imread(img_path)\n",
        "\n",
        "            # Extract the size of the image\n",
        "            size = os.path.getsize(img_path)\n",
        "            sizes.append(size)\n",
        "\n",
        "            # Extract the resolution of the image\n",
        "            resolution = img.shape[:2]\n",
        "            resolutions.append(resolution)\n",
        "\n",
        "            # Extract the color distribution of the image\n",
        "            color_distribution = np.bincount(img.flatten(), minlength=256)\n",
        "            color_distributions.append(color_distribution)\n",
        "\n",
        "# Convert the lists to numpy arrays for easier manipulation\n",
        "sizes = np.array(sizes)\n",
        "resolutions = np.array(resolutions)\n",
        "color_distributions = np.array(color_distributions)"
      ]
    },
    {
      "cell_type": "markdown",
      "metadata": {},
      "source": [
        "PLOTTING HISTOGRAM OF IMAGE SIZES"
      ]
    },
    {
      "cell_type": "code",
      "execution_count": null,
      "metadata": {
        "id": "EPd7u17diuHQ"
      },
      "outputs": [],
      "source": [
        "import matplotlib.pyplot as plt\n",
        "\n",
        "# Plot a histogram of the image sizes\n",
        "plt.hist(sizes)\n",
        "plt.title(\"Distribution of Image Sizes\")\n",
        "plt.xlabel(\"File Size (bytes)\")\n",
        "plt.ylabel(\"Number of Images\")\n",
        "plt.show()"
      ]
    },
    {
      "cell_type": "markdown",
      "metadata": {},
      "source": [
        "PLOTTING DISTRIBUTION OF IMAGE SIZES USING PLOTLY"
      ]
    },
    {
      "cell_type": "code",
      "execution_count": null,
      "metadata": {
        "id": "pBEj9VN2iyhB"
      },
      "outputs": [],
      "source": [
        "import plotly.express as px\n",
        "import os\n",
        "import numpy as np\n",
        "\n",
        "# Root directory path\n",
        "root_path = r\"C:\\Users\\megha\\Downloads\\IDD_Segmentation\"\n",
        "\n",
        "# List to store file sizes in MB\n",
        "file_sizes_mb = []\n",
        "\n",
        "# Iterate over each file in the root directory and its subdirectories\n",
        "for dirpath, dirnames, filenames in os.walk(root_path):\n",
        "    for filename in filenames:\n",
        "        try:\n",
        "            file_path = os.path.join(dirpath, filename)\n",
        "            file_size_mb = os.path.getsize(file_path) / 1_000_000  # Convert to MB\n",
        "            file_sizes_mb.append(file_size_mb)\n",
        "        except OSError as e:\n",
        "            print(f\"Error processing file {file_path}: {e}\")\n",
        "\n",
        "# Create a histogram figure with plotly\n",
        "fig = px.histogram(x=file_sizes_mb, nbins=50, title=\"Distribution of Image Sizes\")\n",
        "\n",
        "# Customize the plot\n",
        "fig.update_layout(\n",
        "    xaxis_title=\"File Size (MB)\",\n",
        "    yaxis_title=\"Number of Images\",\n",
        "    showlegend=False,\n",
        "    bargap=0.1,\n",
        "    bargroupgap=0.1,\n",
        "    xaxis_gridcolor='lightgrey',\n",
        "    yaxis_gridcolor='lightgrey'\n",
        ")\n",
        "\n",
        "# Show the plot\n",
        "fig.show()\n"
      ]
    },
    {
      "cell_type": "markdown",
      "metadata": {},
      "source": [
        "PLOTTING SCATTER PLOT OF IMAGE RESOLUTIONS"
      ]
    },
    {
      "cell_type": "code",
      "execution_count": null,
      "metadata": {
        "id": "3XVazGsSi2RB"
      },
      "outputs": [],
      "source": [
        "import matplotlib.pyplot as plt\n",
        "\n",
        "# Plot a scatter plot of the image resolutions\n",
        "plt.scatter(resolutions[:, 0], resolutions[:, 1])\n",
        "plt.title(\"Distribution of Image Resolutions\")\n",
        "plt.xlabel(\"Width (pixels)\")\n",
        "plt.ylabel(\"Height (pixels)\")\n",
        "plt.show()"
      ]
    },
    {
      "cell_type": "code",
      "execution_count": null,
      "metadata": {
        "id": "SD7qYoVzi533"
      },
      "outputs": [],
      "source": [
        "import plotly.express as px\n",
        "\n",
        "# Create a scatter plot figure with plotly\n",
        "fig = px.scatter(x=resolutions[:, 0], y=resolutions[:, 1], title=\"Distribution of Image Resolutions\")\n",
        "\n",
        "# Customize the plot\n",
        "fig.update_layout(\n",
        "    xaxis_title=\"Width (pixels)\",\n",
        "    yaxis_title=\"Height (pixels)\",\n",
        "    showlegend=False,\n",
        "    hovermode=\"closest\",\n",
        "    width=800,\n",
        "    height=600,\n",
        "    margin=dict(l=50, r=50, b=50, t=50, pad=4)\n",
        ")\n",
        "\n",
        "# Show the plot\n",
        "fig.show()"
      ]
    },
    {
      "cell_type": "markdown",
      "metadata": {},
      "source": [
        "PLOTTING A 3D PLOT OF IMAGE RESOLUTION"
      ]
    },
    {
      "cell_type": "code",
      "execution_count": null,
      "metadata": {
        "id": "u9d3E6Oni8t6"
      },
      "outputs": [],
      "source": [
        "import plotly.express as px\n",
        "import pandas as pd\n",
        "\n",
        "# Create a dataframe with the resolutions\n",
        "df = pd.DataFrame(resolutions, columns=['width', 'height'])\n",
        "\n",
        "# Create a 3D scatter plot with plotly\n",
        "fig = px.scatter_3d(df, x='width', y='height', z=df.index,\n",
        "                    title='Distribution of Image Resolutions',\n",
        "                    labels={'width': 'Width (pixels)',\n",
        "                            'height': 'Height (pixels)',\n",
        "                            'index': 'Image Index'},\n",
        "                    color=df.index)\n",
        "\n",
        "# Customize the plot\n",
        "fig.update_traces(marker=dict(size=2, line=dict(width=0.5)))\n",
        "\n",
        "# Show the plot\n",
        "fig.show()"
      ]
    },
    {
      "cell_type": "markdown",
      "metadata": {},
      "source": [
        "PLOTTING THE MEAN COLOR DISTRIBUTION"
      ]
    },
    {
      "cell_type": "code",
      "execution_count": null,
      "metadata": {
        "id": "zWkZpGmCjHG8"
      },
      "outputs": [],
      "source": [
        "import matplotlib.pyplot as plt\n",
        "\n",
        "# Calculate the mean color distribution across all images\n",
        "mean_color_distribution = np.mean(color_distributions, axis=0)\n",
        "\n",
        "# Plot a bar chart of the mean color distribution\n",
        "plt.bar(np.arange(256), mean_color_distribution)\n",
        "plt.title(\"Mean Color Distribution\")\n",
        "plt.xlabel(\"Color Value\")\n",
        "plt.ylabel(\"Number of Pixels\")\n",
        "plt.show()"
      ]
    },
    {
      "cell_type": "markdown",
      "metadata": {},
      "source": [
        "PLOTTING THE MEAN COLOR DISTRIBUTION USING PLOTLY"
      ]
    },
    {
      "cell_type": "code",
      "execution_count": null,
      "metadata": {
        "id": "YphPf0ckjKZj"
      },
      "outputs": [],
      "source": [
        "import plotly.graph_objects as go\n",
        "\n",
        "# Calculate the mean color distribution across all images\n",
        "mean_color_distribution = np.mean(color_distributions, axis=0)\n",
        "\n",
        "# Create a bar chart of the mean color distribution\n",
        "fig = go.Figure(\n",
        "    go.Bar(x=np.arange(256), y=mean_color_distribution, name=\"Mean Color Distribution\")\n",
        ")\n",
        "\n",
        "# Set the title and axis labels\n",
        "fig.update_layout(\n",
        "    title=\"Mean Color Distribution\",\n",
        "    xaxis_title=\"Color Value\",\n",
        "    yaxis_title=\"Number of Pixels\"\n",
        ")\n",
        "\n",
        "# Show the plot\n",
        "fig.show()"
      ]
    },
    {
      "cell_type": "markdown",
      "metadata": {},
      "source": [
        "PLOTTING COLOR DISTRIBUTION FOR EACH IMAGE"
      ]
    }
  ],
  "metadata": {
    "colab": {
      "provenance": []
    },
    "kernelspec": {
      "display_name": "Python 3",
      "name": "python3"
    },
    "language_info": {
      "codemirror_mode": {
        "name": "ipython",
        "version": 3
      },
      "file_extension": ".py",
      "mimetype": "text/x-python",
      "name": "python",
      "nbconvert_exporter": "python",
      "pygments_lexer": "ipython3",
      "version": "3.11.4"
    }
  },
  "nbformat": 4,
  "nbformat_minor": 0
}
